{
  "nbformat": 4,
  "nbformat_minor": 0,
  "metadata": {
    "colab": {
      "provenance": []
    },
    "kernelspec": {
      "name": "python3",
      "display_name": "Python 3"
    },
    "language_info": {
      "name": "python"
    }
  },
  "cells": [
    {
      "cell_type": "code",
      "source": [
        "# Call necessary libraries\n",
        "import pandas as pd\n",
        "import numpy as np\n",
        "import seaborn as sns\n",
        "import matplotlib.pyplot as plt\n",
        "from sklearn.model_selection import train_test_split\n",
        "import xgboost as xgb\n",
        "from numpy import absolute"
      ],
      "metadata": {
        "id": "0zO2Jdtzw1t0"
      },
      "execution_count": 1,
      "outputs": []
    },
    {
      "cell_type": "code",
      "execution_count": 2,
      "metadata": {
        "colab": {
          "base_uri": "https://localhost:8080/",
          "height": 73
        },
        "id": "WyN6j7tJtkQe",
        "outputId": "5eb4c90c-9429-457a-ae08-2d29e9b465d3"
      },
      "outputs": [
        {
          "output_type": "display_data",
          "data": {
            "text/plain": [
              "<IPython.core.display.HTML object>"
            ],
            "text/html": [
              "\n",
              "     <input type=\"file\" id=\"files-5307deaa-0d43-4a16-bb59-ba63583ad21b\" name=\"files[]\" multiple disabled\n",
              "        style=\"border:none\" />\n",
              "     <output id=\"result-5307deaa-0d43-4a16-bb59-ba63583ad21b\">\n",
              "      Upload widget is only available when the cell has been executed in the\n",
              "      current browser session. Please rerun this cell to enable.\n",
              "      </output>\n",
              "      <script>// Copyright 2017 Google LLC\n",
              "//\n",
              "// Licensed under the Apache License, Version 2.0 (the \"License\");\n",
              "// you may not use this file except in compliance with the License.\n",
              "// You may obtain a copy of the License at\n",
              "//\n",
              "//      http://www.apache.org/licenses/LICENSE-2.0\n",
              "//\n",
              "// Unless required by applicable law or agreed to in writing, software\n",
              "// distributed under the License is distributed on an \"AS IS\" BASIS,\n",
              "// WITHOUT WARRANTIES OR CONDITIONS OF ANY KIND, either express or implied.\n",
              "// See the License for the specific language governing permissions and\n",
              "// limitations under the License.\n",
              "\n",
              "/**\n",
              " * @fileoverview Helpers for google.colab Python module.\n",
              " */\n",
              "(function(scope) {\n",
              "function span(text, styleAttributes = {}) {\n",
              "  const element = document.createElement('span');\n",
              "  element.textContent = text;\n",
              "  for (const key of Object.keys(styleAttributes)) {\n",
              "    element.style[key] = styleAttributes[key];\n",
              "  }\n",
              "  return element;\n",
              "}\n",
              "\n",
              "// Max number of bytes which will be uploaded at a time.\n",
              "const MAX_PAYLOAD_SIZE = 100 * 1024;\n",
              "\n",
              "function _uploadFiles(inputId, outputId) {\n",
              "  const steps = uploadFilesStep(inputId, outputId);\n",
              "  const outputElement = document.getElementById(outputId);\n",
              "  // Cache steps on the outputElement to make it available for the next call\n",
              "  // to uploadFilesContinue from Python.\n",
              "  outputElement.steps = steps;\n",
              "\n",
              "  return _uploadFilesContinue(outputId);\n",
              "}\n",
              "\n",
              "// This is roughly an async generator (not supported in the browser yet),\n",
              "// where there are multiple asynchronous steps and the Python side is going\n",
              "// to poll for completion of each step.\n",
              "// This uses a Promise to block the python side on completion of each step,\n",
              "// then passes the result of the previous step as the input to the next step.\n",
              "function _uploadFilesContinue(outputId) {\n",
              "  const outputElement = document.getElementById(outputId);\n",
              "  const steps = outputElement.steps;\n",
              "\n",
              "  const next = steps.next(outputElement.lastPromiseValue);\n",
              "  return Promise.resolve(next.value.promise).then((value) => {\n",
              "    // Cache the last promise value to make it available to the next\n",
              "    // step of the generator.\n",
              "    outputElement.lastPromiseValue = value;\n",
              "    return next.value.response;\n",
              "  });\n",
              "}\n",
              "\n",
              "/**\n",
              " * Generator function which is called between each async step of the upload\n",
              " * process.\n",
              " * @param {string} inputId Element ID of the input file picker element.\n",
              " * @param {string} outputId Element ID of the output display.\n",
              " * @return {!Iterable<!Object>} Iterable of next steps.\n",
              " */\n",
              "function* uploadFilesStep(inputId, outputId) {\n",
              "  const inputElement = document.getElementById(inputId);\n",
              "  inputElement.disabled = false;\n",
              "\n",
              "  const outputElement = document.getElementById(outputId);\n",
              "  outputElement.innerHTML = '';\n",
              "\n",
              "  const pickedPromise = new Promise((resolve) => {\n",
              "    inputElement.addEventListener('change', (e) => {\n",
              "      resolve(e.target.files);\n",
              "    });\n",
              "  });\n",
              "\n",
              "  const cancel = document.createElement('button');\n",
              "  inputElement.parentElement.appendChild(cancel);\n",
              "  cancel.textContent = 'Cancel upload';\n",
              "  const cancelPromise = new Promise((resolve) => {\n",
              "    cancel.onclick = () => {\n",
              "      resolve(null);\n",
              "    };\n",
              "  });\n",
              "\n",
              "  // Wait for the user to pick the files.\n",
              "  const files = yield {\n",
              "    promise: Promise.race([pickedPromise, cancelPromise]),\n",
              "    response: {\n",
              "      action: 'starting',\n",
              "    }\n",
              "  };\n",
              "\n",
              "  cancel.remove();\n",
              "\n",
              "  // Disable the input element since further picks are not allowed.\n",
              "  inputElement.disabled = true;\n",
              "\n",
              "  if (!files) {\n",
              "    return {\n",
              "      response: {\n",
              "        action: 'complete',\n",
              "      }\n",
              "    };\n",
              "  }\n",
              "\n",
              "  for (const file of files) {\n",
              "    const li = document.createElement('li');\n",
              "    li.append(span(file.name, {fontWeight: 'bold'}));\n",
              "    li.append(span(\n",
              "        `(${file.type || 'n/a'}) - ${file.size} bytes, ` +\n",
              "        `last modified: ${\n",
              "            file.lastModifiedDate ? file.lastModifiedDate.toLocaleDateString() :\n",
              "                                    'n/a'} - `));\n",
              "    const percent = span('0% done');\n",
              "    li.appendChild(percent);\n",
              "\n",
              "    outputElement.appendChild(li);\n",
              "\n",
              "    const fileDataPromise = new Promise((resolve) => {\n",
              "      const reader = new FileReader();\n",
              "      reader.onload = (e) => {\n",
              "        resolve(e.target.result);\n",
              "      };\n",
              "      reader.readAsArrayBuffer(file);\n",
              "    });\n",
              "    // Wait for the data to be ready.\n",
              "    let fileData = yield {\n",
              "      promise: fileDataPromise,\n",
              "      response: {\n",
              "        action: 'continue',\n",
              "      }\n",
              "    };\n",
              "\n",
              "    // Use a chunked sending to avoid message size limits. See b/62115660.\n",
              "    let position = 0;\n",
              "    do {\n",
              "      const length = Math.min(fileData.byteLength - position, MAX_PAYLOAD_SIZE);\n",
              "      const chunk = new Uint8Array(fileData, position, length);\n",
              "      position += length;\n",
              "\n",
              "      const base64 = btoa(String.fromCharCode.apply(null, chunk));\n",
              "      yield {\n",
              "        response: {\n",
              "          action: 'append',\n",
              "          file: file.name,\n",
              "          data: base64,\n",
              "        },\n",
              "      };\n",
              "\n",
              "      let percentDone = fileData.byteLength === 0 ?\n",
              "          100 :\n",
              "          Math.round((position / fileData.byteLength) * 100);\n",
              "      percent.textContent = `${percentDone}% done`;\n",
              "\n",
              "    } while (position < fileData.byteLength);\n",
              "  }\n",
              "\n",
              "  // All done.\n",
              "  yield {\n",
              "    response: {\n",
              "      action: 'complete',\n",
              "    }\n",
              "  };\n",
              "}\n",
              "\n",
              "scope.google = scope.google || {};\n",
              "scope.google.colab = scope.google.colab || {};\n",
              "scope.google.colab._files = {\n",
              "  _uploadFiles,\n",
              "  _uploadFilesContinue,\n",
              "};\n",
              "})(self);\n",
              "</script> "
            ]
          },
          "metadata": {}
        },
        {
          "output_type": "stream",
          "name": "stdout",
          "text": [
            "Saving TOC_Prediction_DataSet.xlsx to TOC_Prediction_DataSet.xlsx\n"
          ]
        }
      ],
      "source": [
        "#Data Acquisition\n",
        "from google.colab import files\n",
        "uploaded = files.upload()\n"
      ]
    },
    {
      "cell_type": "code",
      "source": [
        "import io\n",
        "data = pd.read_excel(io.BytesIO(uploaded['TOC_Prediction_DataSet.xlsx']))"
      ],
      "metadata": {
        "id": "KPMwAFaSwldU"
      },
      "execution_count": 3,
      "outputs": []
    },
    {
      "cell_type": "code",
      "source": [
        "# Data features display\n",
        "data.columns"
      ],
      "metadata": {
        "colab": {
          "base_uri": "https://localhost:8080/"
        },
        "id": "HRrFs9X2wvuN",
        "outputId": "4ecc6594-4cec-429d-e4af-057b94e3f925"
      },
      "execution_count": 4,
      "outputs": [
        {
          "output_type": "execute_result",
          "data": {
            "text/plain": [
              "Index(['Thickness_ft', 'Bulk Density_gg per cc', 'Resistivity_ohmsm',\n",
              "       'Effective Porosity_Fraction', 'Clay Volume_ Fraction',\n",
              "       'Water Saturation_Fraction', 'TOC_Fraction'],\n",
              "      dtype='object')"
            ]
          },
          "metadata": {},
          "execution_count": 4
        }
      ]
    },
    {
      "cell_type": "code",
      "source": [
        "# Data Content Summary\n",
        "data.describe()"
      ],
      "metadata": {
        "colab": {
          "base_uri": "https://localhost:8080/",
          "height": 362
        },
        "id": "nOJORZ6I4YcN",
        "outputId": "722c504a-751a-4d5d-8575-a603a23ab0f0"
      },
      "execution_count": 5,
      "outputs": [
        {
          "output_type": "execute_result",
          "data": {
            "text/plain": [
              "       Thickness_ft  Bulk Density_gg per cc  Resistivity_ohmsm  \\\n",
              "count    987.000000              987.000000         987.000000   \n",
              "mean     150.448933                2.423001           3.892432   \n",
              "std       52.452284                0.019059           1.342193   \n",
              "min       50.218753                2.386117           1.680451   \n",
              "25%      123.462354                2.409469           3.120852   \n",
              "50%      141.662622                2.422639           3.650354   \n",
              "75%      166.707110                2.433418           4.319585   \n",
              "max      475.992627                2.540608          15.970625   \n",
              "\n",
              "       Effective Porosity_Fraction  Clay Volume_ Fraction  \\\n",
              "count                   987.000000             987.000000   \n",
              "mean                      0.061492               0.271257   \n",
              "std                       0.014805               0.045289   \n",
              "min                       0.017432               0.153118   \n",
              "25%                       0.051250               0.238607   \n",
              "50%                       0.061158               0.264785   \n",
              "75%                       0.072289               0.303776   \n",
              "max                       0.096054               0.413083   \n",
              "\n",
              "       Water Saturation_Fraction  TOC_Fraction  \n",
              "count                 987.000000    987.000000  \n",
              "mean                    0.435876      0.052630  \n",
              "std                     0.080023      0.005062  \n",
              "min                     0.230041      0.030830  \n",
              "25%                     0.372234      0.051026  \n",
              "50%                     0.442414      0.053662  \n",
              "75%                     0.490972      0.056100  \n",
              "max                     0.683304      0.060907  "
            ],
            "text/html": [
              "\n",
              "  <div id=\"df-c4e47a19-433c-435d-9f72-3f543ff847fc\">\n",
              "    <div class=\"colab-df-container\">\n",
              "      <div>\n",
              "<style scoped>\n",
              "    .dataframe tbody tr th:only-of-type {\n",
              "        vertical-align: middle;\n",
              "    }\n",
              "\n",
              "    .dataframe tbody tr th {\n",
              "        vertical-align: top;\n",
              "    }\n",
              "\n",
              "    .dataframe thead th {\n",
              "        text-align: right;\n",
              "    }\n",
              "</style>\n",
              "<table border=\"1\" class=\"dataframe\">\n",
              "  <thead>\n",
              "    <tr style=\"text-align: right;\">\n",
              "      <th></th>\n",
              "      <th>Thickness_ft</th>\n",
              "      <th>Bulk Density_gg per cc</th>\n",
              "      <th>Resistivity_ohmsm</th>\n",
              "      <th>Effective Porosity_Fraction</th>\n",
              "      <th>Clay Volume_ Fraction</th>\n",
              "      <th>Water Saturation_Fraction</th>\n",
              "      <th>TOC_Fraction</th>\n",
              "    </tr>\n",
              "  </thead>\n",
              "  <tbody>\n",
              "    <tr>\n",
              "      <th>count</th>\n",
              "      <td>987.000000</td>\n",
              "      <td>987.000000</td>\n",
              "      <td>987.000000</td>\n",
              "      <td>987.000000</td>\n",
              "      <td>987.000000</td>\n",
              "      <td>987.000000</td>\n",
              "      <td>987.000000</td>\n",
              "    </tr>\n",
              "    <tr>\n",
              "      <th>mean</th>\n",
              "      <td>150.448933</td>\n",
              "      <td>2.423001</td>\n",
              "      <td>3.892432</td>\n",
              "      <td>0.061492</td>\n",
              "      <td>0.271257</td>\n",
              "      <td>0.435876</td>\n",
              "      <td>0.052630</td>\n",
              "    </tr>\n",
              "    <tr>\n",
              "      <th>std</th>\n",
              "      <td>52.452284</td>\n",
              "      <td>0.019059</td>\n",
              "      <td>1.342193</td>\n",
              "      <td>0.014805</td>\n",
              "      <td>0.045289</td>\n",
              "      <td>0.080023</td>\n",
              "      <td>0.005062</td>\n",
              "    </tr>\n",
              "    <tr>\n",
              "      <th>min</th>\n",
              "      <td>50.218753</td>\n",
              "      <td>2.386117</td>\n",
              "      <td>1.680451</td>\n",
              "      <td>0.017432</td>\n",
              "      <td>0.153118</td>\n",
              "      <td>0.230041</td>\n",
              "      <td>0.030830</td>\n",
              "    </tr>\n",
              "    <tr>\n",
              "      <th>25%</th>\n",
              "      <td>123.462354</td>\n",
              "      <td>2.409469</td>\n",
              "      <td>3.120852</td>\n",
              "      <td>0.051250</td>\n",
              "      <td>0.238607</td>\n",
              "      <td>0.372234</td>\n",
              "      <td>0.051026</td>\n",
              "    </tr>\n",
              "    <tr>\n",
              "      <th>50%</th>\n",
              "      <td>141.662622</td>\n",
              "      <td>2.422639</td>\n",
              "      <td>3.650354</td>\n",
              "      <td>0.061158</td>\n",
              "      <td>0.264785</td>\n",
              "      <td>0.442414</td>\n",
              "      <td>0.053662</td>\n",
              "    </tr>\n",
              "    <tr>\n",
              "      <th>75%</th>\n",
              "      <td>166.707110</td>\n",
              "      <td>2.433418</td>\n",
              "      <td>4.319585</td>\n",
              "      <td>0.072289</td>\n",
              "      <td>0.303776</td>\n",
              "      <td>0.490972</td>\n",
              "      <td>0.056100</td>\n",
              "    </tr>\n",
              "    <tr>\n",
              "      <th>max</th>\n",
              "      <td>475.992627</td>\n",
              "      <td>2.540608</td>\n",
              "      <td>15.970625</td>\n",
              "      <td>0.096054</td>\n",
              "      <td>0.413083</td>\n",
              "      <td>0.683304</td>\n",
              "      <td>0.060907</td>\n",
              "    </tr>\n",
              "  </tbody>\n",
              "</table>\n",
              "</div>\n",
              "      <button class=\"colab-df-convert\" onclick=\"convertToInteractive('df-c4e47a19-433c-435d-9f72-3f543ff847fc')\"\n",
              "              title=\"Convert this dataframe to an interactive table.\"\n",
              "              style=\"display:none;\">\n",
              "        \n",
              "  <svg xmlns=\"http://www.w3.org/2000/svg\" height=\"24px\"viewBox=\"0 0 24 24\"\n",
              "       width=\"24px\">\n",
              "    <path d=\"M0 0h24v24H0V0z\" fill=\"none\"/>\n",
              "    <path d=\"M18.56 5.44l.94 2.06.94-2.06 2.06-.94-2.06-.94-.94-2.06-.94 2.06-2.06.94zm-11 1L8.5 8.5l.94-2.06 2.06-.94-2.06-.94L8.5 2.5l-.94 2.06-2.06.94zm10 10l.94 2.06.94-2.06 2.06-.94-2.06-.94-.94-2.06-.94 2.06-2.06.94z\"/><path d=\"M17.41 7.96l-1.37-1.37c-.4-.4-.92-.59-1.43-.59-.52 0-1.04.2-1.43.59L10.3 9.45l-7.72 7.72c-.78.78-.78 2.05 0 2.83L4 21.41c.39.39.9.59 1.41.59.51 0 1.02-.2 1.41-.59l7.78-7.78 2.81-2.81c.8-.78.8-2.07 0-2.86zM5.41 20L4 18.59l7.72-7.72 1.47 1.35L5.41 20z\"/>\n",
              "  </svg>\n",
              "      </button>\n",
              "      \n",
              "  <style>\n",
              "    .colab-df-container {\n",
              "      display:flex;\n",
              "      flex-wrap:wrap;\n",
              "      gap: 12px;\n",
              "    }\n",
              "\n",
              "    .colab-df-convert {\n",
              "      background-color: #E8F0FE;\n",
              "      border: none;\n",
              "      border-radius: 50%;\n",
              "      cursor: pointer;\n",
              "      display: none;\n",
              "      fill: #1967D2;\n",
              "      height: 32px;\n",
              "      padding: 0 0 0 0;\n",
              "      width: 32px;\n",
              "    }\n",
              "\n",
              "    .colab-df-convert:hover {\n",
              "      background-color: #E2EBFA;\n",
              "      box-shadow: 0px 1px 2px rgba(60, 64, 67, 0.3), 0px 1px 3px 1px rgba(60, 64, 67, 0.15);\n",
              "      fill: #174EA6;\n",
              "    }\n",
              "\n",
              "    [theme=dark] .colab-df-convert {\n",
              "      background-color: #3B4455;\n",
              "      fill: #D2E3FC;\n",
              "    }\n",
              "\n",
              "    [theme=dark] .colab-df-convert:hover {\n",
              "      background-color: #434B5C;\n",
              "      box-shadow: 0px 1px 3px 1px rgba(0, 0, 0, 0.15);\n",
              "      filter: drop-shadow(0px 1px 2px rgba(0, 0, 0, 0.3));\n",
              "      fill: #FFFFFF;\n",
              "    }\n",
              "  </style>\n",
              "\n",
              "      <script>\n",
              "        const buttonEl =\n",
              "          document.querySelector('#df-c4e47a19-433c-435d-9f72-3f543ff847fc button.colab-df-convert');\n",
              "        buttonEl.style.display =\n",
              "          google.colab.kernel.accessAllowed ? 'block' : 'none';\n",
              "\n",
              "        async function convertToInteractive(key) {\n",
              "          const element = document.querySelector('#df-c4e47a19-433c-435d-9f72-3f543ff847fc');\n",
              "          const dataTable =\n",
              "            await google.colab.kernel.invokeFunction('convertToInteractive',\n",
              "                                                     [key], {});\n",
              "          if (!dataTable) return;\n",
              "\n",
              "          const docLinkHtml = 'Like what you see? Visit the ' +\n",
              "            '<a target=\"_blank\" href=https://colab.research.google.com/notebooks/data_table.ipynb>data table notebook</a>'\n",
              "            + ' to learn more about interactive tables.';\n",
              "          element.innerHTML = '';\n",
              "          dataTable['output_type'] = 'display_data';\n",
              "          await google.colab.output.renderOutput(dataTable, element);\n",
              "          const docLink = document.createElement('div');\n",
              "          docLink.innerHTML = docLinkHtml;\n",
              "          element.appendChild(docLink);\n",
              "        }\n",
              "      </script>\n",
              "    </div>\n",
              "  </div>\n",
              "  "
            ]
          },
          "metadata": {},
          "execution_count": 5
        }
      ]
    },
    {
      "cell_type": "code",
      "source": [
        "# Box plot generation for outliers detection in each feature\n",
        "f,axes = plt.subplots(4,2, figsize=(12,12))\n",
        "sns.boxplot(x=data['Bulk Density_gg per cc'], color='grey', ax=axes[0,1])\n",
        "sns.boxplot(x=data['Clay Volume_ Fraction'], color='yellow', ax=axes[0,0])\n",
        "sns.boxplot(x=data['Effective Porosity_Fraction'], color='blue', ax=axes[1,0])\n",
        "sns.boxplot(x=data['Resistivity_ohmsm'], color='red', ax=axes[1,1])\n",
        "sns.boxplot(x=data['TOC_Fraction'], color='orange', ax=axes[2,0])\n",
        "sns.boxplot(x=data['Thickness_ft'], color='maroon', ax=axes[2,1])\n",
        "sns.boxplot(x=data['Water Saturation_Fraction'], color='black', ax=axes[3,1])"
      ],
      "metadata": {
        "colab": {
          "base_uri": "https://localhost:8080/",
          "height": 732
        },
        "id": "xYbp-X38x_3O",
        "outputId": "31b829c3-a81a-47b7-d1c0-82be143b2ccb"
      },
      "execution_count": 6,
      "outputs": [
        {
          "output_type": "execute_result",
          "data": {
            "text/plain": [
              "<matplotlib.axes._subplots.AxesSubplot at 0x7fe5faae2f10>"
            ]
          },
          "metadata": {},
          "execution_count": 6
        },
        {
          "output_type": "display_data",
          "data": {
            "text/plain": [
              "<Figure size 864x864 with 8 Axes>"
            ],
            "image/png": "[encoded data removed]"
          },
          "metadata": {
            "needs_background": "light"
          }
        }
      ]
    },
    {
      "cell_type": "code",
      "source": [
        "df=data"
      ],
      "metadata": {
        "id": "j9-9VKWswwFk"
      },
      "execution_count": 7,
      "outputs": []
    },
    {
      "cell_type": "code",
      "source": [
        "# Data cleaning - Removing outliers\n",
        "df=df[(df['Thickness_ft']>0)&(df['Thickness_ft']<240)]\n",
        "df=df[(df['Bulk Density_gg per cc']>0)&(df['Bulk Density_gg per cc']<2.47)]\n",
        "df=df[(df['Resistivity_ohmsm']>0)&(df['Resistivity_ohmsm']<6.1)]\n",
        "df=df[(df['TOC_Fraction']>0.042)&(df['TOC_Fraction']<0.08)]\n",
        "df.describe()"
      ],
      "metadata": {
        "colab": {
          "base_uri": "https://localhost:8080/",
          "height": 362
        },
        "id": "C1XtvSe94_3P",
        "outputId": "09dd90df-db0d-4d25-8257-eef98044d376"
      },
      "execution_count": 8,
      "outputs": [
        {
          "output_type": "execute_result",
          "data": {
            "text/plain": [
              "       Thickness_ft  Bulk Density_gg per cc  Resistivity_ohmsm  \\\n",
              "count    846.000000              846.000000         846.000000   \n",
              "mean     149.987326                2.419593           3.707562   \n",
              "std       37.473073                0.015873           0.823255   \n",
              "min       62.901831                2.386117           1.680451   \n",
              "25%      126.122632                2.407908           3.125468   \n",
              "50%      142.043793                2.420265           3.599163   \n",
              "75%      166.571768                2.431194           4.210482   \n",
              "max      239.888257                2.467620           6.052624   \n",
              "\n",
              "       Effective Porosity_Fraction  Clay Volume_ Fraction  \\\n",
              "count                   846.000000             846.000000   \n",
              "mean                      0.063430               0.264851   \n",
              "std                       0.014140               0.041268   \n",
              "min                       0.021407               0.153118   \n",
              "25%                       0.052672               0.234800   \n",
              "50%                       0.062986               0.258269   \n",
              "75%                       0.072953               0.296944   \n",
              "max                       0.096054               0.382887   \n",
              "\n",
              "       Water Saturation_Fraction  TOC_Fraction  \n",
              "count                 846.000000    846.000000  \n",
              "mean                    0.431145      0.053756  \n",
              "std                     0.072247      0.003537  \n",
              "min                     0.230041      0.042159  \n",
              "25%                     0.376059      0.051851  \n",
              "50%                     0.440302      0.054473  \n",
              "75%                     0.483732      0.056258  \n",
              "max                     0.654794      0.060907  "
            ],
            "text/html": [
              "\n",
              "  <div id=\"df-a2ae2e8d-8608-4ac9-a1ad-45b14821a8d7\">\n",
              "    <div class=\"colab-df-container\">\n",
              "      <div>\n",
              "<style scoped>\n",
              "    .dataframe tbody tr th:only-of-type {\n",
              "        vertical-align: middle;\n",
              "    }\n",
              "\n",
              "    .dataframe tbody tr th {\n",
              "        vertical-align: top;\n",
              "    }\n",
              "\n",
              "    .dataframe thead th {\n",
              "        text-align: right;\n",
              "    }\n",
              "</style>\n",
              "<table border=\"1\" class=\"dataframe\">\n",
              "  <thead>\n",
              "    <tr style=\"text-align: right;\">\n",
              "      <th></th>\n",
              "      <th>Thickness_ft</th>\n",
              "      <th>Bulk Density_gg per cc</th>\n",
              "      <th>Resistivity_ohmsm</th>\n",
              "      <th>Effective Porosity_Fraction</th>\n",
              "      <th>Clay Volume_ Fraction</th>\n",
              "      <th>Water Saturation_Fraction</th>\n",
              "      <th>TOC_Fraction</th>\n",
              "    </tr>\n",
              "  </thead>\n",
              "  <tbody>\n",
              "    <tr>\n",
              "      <th>count</th>\n",
              "      <td>846.000000</td>\n",
              "      <td>846.000000</td>\n",
              "      <td>846.000000</td>\n",
              "      <td>846.000000</td>\n",
              "      <td>846.000000</td>\n",
              "      <td>846.000000</td>\n",
              "      <td>846.000000</td>\n",
              "    </tr>\n",
              "    <tr>\n",
              "      <th>mean</th>\n",
              "      <td>149.987326</td>\n",
              "      <td>2.419593</td>\n",
              "      <td>3.707562</td>\n",
              "      <td>0.063430</td>\n",
              "      <td>0.264851</td>\n",
              "      <td>0.431145</td>\n",
              "      <td>0.053756</td>\n",
              "    </tr>\n",
              "    <tr>\n",
              "      <th>std</th>\n",
              "      <td>37.473073</td>\n",
              "      <td>0.015873</td>\n",
              "      <td>0.823255</td>\n",
              "      <td>0.014140</td>\n",
              "      <td>0.041268</td>\n",
              "      <td>0.072247</td>\n",
              "      <td>0.003537</td>\n",
              "    </tr>\n",
              "    <tr>\n",
              "      <th>min</th>\n",
              "      <td>62.901831</td>\n",
              "      <td>2.386117</td>\n",
              "      <td>1.680451</td>\n",
              "      <td>0.021407</td>\n",
              "      <td>0.153118</td>\n",
              "      <td>0.230041</td>\n",
              "      <td>0.042159</td>\n",
              "    </tr>\n",
              "    <tr>\n",
              "      <th>25%</th>\n",
              "      <td>126.122632</td>\n",
              "      <td>2.407908</td>\n",
              "      <td>3.125468</td>\n",
              "      <td>0.052672</td>\n",
              "      <td>0.234800</td>\n",
              "      <td>0.376059</td>\n",
              "      <td>0.051851</td>\n",
              "    </tr>\n",
              "    <tr>\n",
              "      <th>50%</th>\n",
              "      <td>142.043793</td>\n",
              "      <td>2.420265</td>\n",
              "      <td>3.599163</td>\n",
              "      <td>0.062986</td>\n",
              "      <td>0.258269</td>\n",
              "      <td>0.440302</td>\n",
              "      <td>0.054473</td>\n",
              "    </tr>\n",
              "    <tr>\n",
              "      <th>75%</th>\n",
              "      <td>166.571768</td>\n",
              "      <td>2.431194</td>\n",
              "      <td>4.210482</td>\n",
              "      <td>0.072953</td>\n",
              "      <td>0.296944</td>\n",
              "      <td>0.483732</td>\n",
              "      <td>0.056258</td>\n",
              "    </tr>\n",
              "    <tr>\n",
              "      <th>max</th>\n",
              "      <td>239.888257</td>\n",
              "      <td>2.467620</td>\n",
              "      <td>6.052624</td>\n",
              "      <td>0.096054</td>\n",
              "      <td>0.382887</td>\n",
              "      <td>0.654794</td>\n",
              "      <td>0.060907</td>\n",
              "    </tr>\n",
              "  </tbody>\n",
              "</table>\n",
              "</div>\n",
              "      <button class=\"colab-df-convert\" onclick=\"convertToInteractive('df-a2ae2e8d-8608-4ac9-a1ad-45b14821a8d7')\"\n",
              "              title=\"Convert this dataframe to an interactive table.\"\n",
              "              style=\"display:none;\">\n",
              "        \n",
              "  <svg xmlns=\"http://www.w3.org/2000/svg\" height=\"24px\"viewBox=\"0 0 24 24\"\n",
              "       width=\"24px\">\n",
              "    <path d=\"M0 0h24v24H0V0z\" fill=\"none\"/>\n",
              "    <path d=\"M18.56 5.44l.94 2.06.94-2.06 2.06-.94-2.06-.94-.94-2.06-.94 2.06-2.06.94zm-11 1L8.5 8.5l.94-2.06 2.06-.94-2.06-.94L8.5 2.5l-.94 2.06-2.06.94zm10 10l.94 2.06.94-2.06 2.06-.94-2.06-.94-.94-2.06-.94 2.06-2.06.94z\"/><path d=\"M17.41 7.96l-1.37-1.37c-.4-.4-.92-.59-1.43-.59-.52 0-1.04.2-1.43.59L10.3 9.45l-7.72 7.72c-.78.78-.78 2.05 0 2.83L4 21.41c.39.39.9.59 1.41.59.51 0 1.02-.2 1.41-.59l7.78-7.78 2.81-2.81c.8-.78.8-2.07 0-2.86zM5.41 20L4 18.59l7.72-7.72 1.47 1.35L5.41 20z\"/>\n",
              "  </svg>\n",
              "      </button>\n",
              "      \n",
              "  <style>\n",
              "    .colab-df-container {\n",
              "      display:flex;\n",
              "      flex-wrap:wrap;\n",
              "      gap: 12px;\n",
              "    }\n",
              "\n",
              "    .colab-df-convert {\n",
              "      background-color: #E8F0FE;\n",
              "      border: none;\n",
              "      border-radius: 50%;\n",
              "      cursor: pointer;\n",
              "      display: none;\n",
              "      fill: #1967D2;\n",
              "      height: 32px;\n",
              "      padding: 0 0 0 0;\n",
              "      width: 32px;\n",
              "    }\n",
              "\n",
              "    .colab-df-convert:hover {\n",
              "      background-color: #E2EBFA;\n",
              "      box-shadow: 0px 1px 2px rgba(60, 64, 67, 0.3), 0px 1px 3px 1px rgba(60, 64, 67, 0.15);\n",
              "      fill: #174EA6;\n",
              "    }\n",
              "\n",
              "    [theme=dark] .colab-df-convert {\n",
              "      background-color: #3B4455;\n",
              "      fill: #D2E3FC;\n",
              "    }\n",
              "\n",
              "    [theme=dark] .colab-df-convert:hover {\n",
              "      background-color: #434B5C;\n",
              "      box-shadow: 0px 1px 3px 1px rgba(0, 0, 0, 0.15);\n",
              "      filter: drop-shadow(0px 1px 2px rgba(0, 0, 0, 0.3));\n",
              "      fill: #FFFFFF;\n",
              "    }\n",
              "  </style>\n",
              "\n",
              "      <script>\n",
              "        const buttonEl =\n",
              "          document.querySelector('#df-a2ae2e8d-8608-4ac9-a1ad-45b14821a8d7 button.colab-df-convert');\n",
              "        buttonEl.style.display =\n",
              "          google.colab.kernel.accessAllowed ? 'block' : 'none';\n",
              "\n",
              "        async function convertToInteractive(key) {\n",
              "          const element = document.querySelector('#df-a2ae2e8d-8608-4ac9-a1ad-45b14821a8d7');\n",
              "          const dataTable =\n",
              "            await google.colab.kernel.invokeFunction('convertToInteractive',\n",
              "                                                     [key], {});\n",
              "          if (!dataTable) return;\n",
              "\n",
              "          const docLinkHtml = 'Like what you see? Visit the ' +\n",
              "            '<a target=\"_blank\" href=https://colab.research.google.com/notebooks/data_table.ipynb>data table notebook</a>'\n",
              "            + ' to learn more about interactive tables.';\n",
              "          element.innerHTML = '';\n",
              "          dataTable['output_type'] = 'display_data';\n",
              "          await google.colab.output.renderOutput(dataTable, element);\n",
              "          const docLink = document.createElement('div');\n",
              "          docLink.innerHTML = docLinkHtml;\n",
              "          element.appendChild(docLink);\n",
              "        }\n",
              "      </script>\n",
              "    </div>\n",
              "  </div>\n",
              "  "
            ]
          },
          "metadata": {},
          "execution_count": 8
        }
      ]
    },
    {
      "cell_type": "code",
      "source": [
        "# Checking for inter relationship between features\n",
        "plt.figure(figsize=(12,10))\n",
        "sns.heatmap(df.corr(), annot=True, linecolor='white', linewidths=2, cmap='coolwarm')"
      ],
      "metadata": {
        "colab": {
          "base_uri": "https://localhost:8080/",
          "height": 734
        },
        "id": "s_-twuWEySs3",
        "outputId": "aeedc67e-a7c6-4920-ee4b-493029d68a97"
      },
      "execution_count": 8,
      "outputs": [
        {
          "output_type": "execute_result",
          "data": {
            "text/plain": [
              "<matplotlib.axes._subplots.AxesSubplot at 0x7fe5fa8f3350>"
            ]
          },
          "metadata": {},
          "execution_count": 8
        },
        {
          "output_type": "display_data",
          "data": {
            "text/plain": [
              "<Figure size 864x720 with 2 Axes>"
            ],
            "image/png": "[encoded data removed]"
          },
          "metadata": {
            "needs_background": "light"
          }
        }
      ]
    },
    {
      "cell_type": "code",
      "source": [
        "# Seperation of data into input and output features\n",
        "y=df['TOC_Fraction']\n",
        "x=df.drop(['TOC_Fraction'], axis=1)"
      ],
      "metadata": {
        "id": "pk6pJHz03d29"
      },
      "execution_count": 9,
      "outputs": []
    },
    {
      "cell_type": "code",
      "source": [
        "# Split data set for training and testing\n",
        "seed=100\n",
        "np.random.seed(seed)\n",
        "train_X,test_X,train_y,test_y = train_test_split(x,y, test_size=0.2)"
      ],
      "metadata": {
        "id": "URI2DIVU3m-M"
      },
      "execution_count": 10,
      "outputs": []
    },
    {
      "cell_type": "code",
      "source": [
        "# Apply XGBoost regression\n",
        "model = xgb.XGBRegressor(n_estimators=10000, max_depth=10, eta=0.1, objective='reg:squarederror', subsample=1, colsample_bytree=1)  "
      ],
      "metadata": {
        "id": "7REN2RLDN7C5"
      },
      "execution_count": 11,
      "outputs": []
    },
    {
      "cell_type": "code",
      "source": [
        "# Train the model on training data\n",
        "model.fit(train_X, train_y)"
      ],
      "metadata": {
        "colab": {
          "base_uri": "https://localhost:8080/"
        },
        "id": "XqSHq8SWQM-S",
        "outputId": "c8b337be-6ec4-4978-f250-69d8800f3b7a"
      },
      "execution_count": 12,
      "outputs": [
        {
          "output_type": "execute_result",
          "data": {
            "text/plain": [
              "XGBRegressor(eta=0.1, max_depth=10, n_estimators=10000,\n",
              "             objective='reg:squarederror')"
            ]
          },
          "metadata": {},
          "execution_count": 12
        }
      ]
    },
    {
      "cell_type": "code",
      "source": [
        "# Prediction\n",
        "y_pred_train=model.predict(train_X)\n",
        "y_pred_test=model.predict(test_X)"
      ],
      "metadata": {
        "id": "DjPkK40ACxkT"
      },
      "execution_count": 13,
      "outputs": []
    },
    {
      "cell_type": "code",
      "source": [
        "# Correlation value between output test data and predicted output test data\n",
        "corr_test=np.corrcoef(test_y, y_pred_test) [0,1]\n",
        "print('Testing Data R^2=',round(corr_test**2,4),'R=', round(corr_test,4))"
      ],
      "metadata": {
        "colab": {
          "base_uri": "https://localhost:8080/"
        },
        "id": "LZmEPTJFD7kA",
        "outputId": "9098296c-06ce-42bf-d17d-61fd89cb6a8f"
      },
      "execution_count": 14,
      "outputs": [
        {
          "output_type": "stream",
          "name": "stdout",
          "text": [
            "Testing Data R^2= 0.778 R= 0.882\n"
          ]
        }
      ]
    },
    {
      "cell_type": "code",
      "source": [
        "from sklearn.metrics import mean_squared_error as MSE"
      ],
      "metadata": {
        "id": "m2cMmEktKYH-"
      },
      "execution_count": 15,
      "outputs": []
    },
    {
      "cell_type": "code",
      "source": [
        "#Computing errors of model\n",
        "from sklearn import metrics\n",
        "print('MAE:', round(metrics.mean_absolute_error(test_y, y_pred_test),5))\n",
        "print('MSE:', round(metrics.mean_squared_error(test_y, y_pred_test),5))\n",
        "print('RMSE:', round(np.sqrt(metrics.mean_squared_error(test_y, y_pred_test)),5))\n",
        "def MAPE(Y_actual,Y_Predicted):\n",
        "    mape = np.mean(np.abs((Y_actual - Y_Predicted)/Y_actual))*100\n",
        "    return mape\n",
        "XG_MAPE= MAPE(test_y,y_pred_test)\n",
        "print(\"MAPE: \",XG_MAPE)"
      ],
      "metadata": {
        "colab": {
          "base_uri": "https://localhost:8080/"
        },
        "id": "RRXa8NewETjM",
        "outputId": "012be4c9-4195-40c9-c796-1493670848c0"
      },
      "execution_count": 16,
      "outputs": [
        {
          "output_type": "stream",
          "name": "stdout",
          "text": [
            "MAE: 0.0013\n",
            "MSE: 1e-05\n",
            "RMSE: 0.00249\n",
            "MAPE:  2.7373158563225806\n"
          ]
        }
      ]
    },
    {
      "cell_type": "code",
      "source": [
        "# Scatterplot showing relationship Actual and Predicted training data\n",
        "plt.figure(figsize=(10,8))\n",
        "plt.plot(train_y, y_pred_train, 'g.')\n",
        "plt.xlabel('TOC Training Actual')\n",
        "plt.ylabel('TOC Training Prediction')\n",
        "plt.title('TOC Training Actual Vs. Prediction')"
      ],
      "metadata": {
        "colab": {
          "base_uri": "https://localhost:8080/",
          "height": 530
        },
        "id": "OWq5NRd_EcXQ",
        "outputId": "d3dd4d83-3216-4509-96ee-1b3e74973cbd"
      },
      "execution_count": 17,
      "outputs": [
        {
          "output_type": "execute_result",
          "data": {
            "text/plain": [
              "Text(0.5, 1.0, 'TOC Training Actual Vs. Prediction')"
            ]
          },
          "metadata": {},
          "execution_count": 17
        },
        {
          "output_type": "display_data",
          "data": {
            "text/plain": [
              "<Figure size 720x576 with 1 Axes>"
            ],
            "image/png": "[encoded data removed]"
          },
          "metadata": {
            "needs_background": "light"
          }
        }
      ]
    },
    {
      "cell_type": "code",
      "source": [
        "# Feature ranking among input features\n",
        "feature_names = data.columns[:-1]\n",
        "plt.figure(figsize=(10,8))\n",
        "feature_imp = pd.Series(model.feature_importances_,index=feature_names).sort_values(ascending=False)\n",
        "\n",
        "sns.barplot(x=feature_imp, y=feature_imp.index)\n",
        "plt.xlabel('Feature Importance Score Using XG Boost')\n",
        "plt.ylabel('Features')\n",
        "plt.title(\"Feature Importance Ranking\")"
      ],
      "metadata": {
        "colab": {
          "base_uri": "https://localhost:8080/",
          "height": 530
        },
        "id": "0RFaOKzqEfj4",
        "outputId": "0d871436-218b-4f79-ede5-04f01ce97602"
      },
      "execution_count": 18,
      "outputs": [
        {
          "output_type": "execute_result",
          "data": {
            "text/plain": [
              "Text(0.5, 1.0, 'Feature Importance Ranking')"
            ]
          },
          "metadata": {},
          "execution_count": 18
        },
        {
          "output_type": "display_data",
          "data": {
            "text/plain": [
              "<Figure size 720x576 with 1 Axes>"
            ],
            "image/png": "[encoded data removed]"
          },
          "metadata": {
            "needs_background": "light"
          }
        }
      ]
    },
    {
      "cell_type": "code",
      "source": [
        "# Generating cross-validation score for model fit checking\n",
        "from sklearn.model_selection import cross_val_score\n",
        "seed=100\n",
        "np.random.seed(seed)\n",
        "scores_R2 = cross_val_score(model, x, y,cv=10,scoring='r2')\n",
        "print(\" Average R2_Cross-validation scores- XGBoost: {}\". format( scores_R2.mean()))"
      ],
      "metadata": {
        "colab": {
          "base_uri": "https://localhost:8080/"
        },
        "id": "wuYafe-hEz7P",
        "outputId": "757260cb-ba21-483b-e8ca-e9c009a8a0f0"
      },
      "execution_count": 26,
      "outputs": [
        {
          "output_type": "stream",
          "name": "stdout",
          "text": [
            " Average R2_Cross-validation scores- XGBoost: 0.8132651000352069\n"
          ]
        }
      ]
    },
    {
      "cell_type": "code",
      "source": [
        "from sklearn.tree import DecisionTreeRegressor"
      ],
      "metadata": {
        "id": "fUHyWsavdowV"
      },
      "execution_count": 21,
      "outputs": []
    },
    {
      "cell_type": "code",
      "source": [
        "np.random.seed(seed)\n",
        "dtree = DecisionTreeRegressor(criterion='mse', splitter='best', max_depth=None, min_samples_split=4, min_samples_leaf=2,\n",
        "                              max_features=None,ccp_alpha=0)"
      ],
      "metadata": {
        "id": "u_cc7tW_dq3y"
      },
      "execution_count": 22,
      "outputs": []
    },
    {
      "cell_type": "code",
      "source": [
        "dtree.fit(train_X, train_y)"
      ],
      "metadata": {
        "colab": {
          "base_uri": "https://localhost:8080/"
        },
        "id": "hfpzHCEMdw7P",
        "outputId": "0d12bf9e-4bd0-41e8-dc76-5ffb5b730481"
      },
      "execution_count": 23,
      "outputs": [
        {
          "output_type": "stream",
          "name": "stderr",
          "text": [
            "/usr/local/lib/python3.7/dist-packages/sklearn/tree/_classes.py:363: FutureWarning: Criterion 'mse' was deprecated in v1.0 and will be removed in version 1.2. Use `criterion='squared_error'` which is equivalent.\n",
            "  FutureWarning,\n"
          ]
        },
        {
          "output_type": "execute_result",
          "data": {
            "text/plain": [
              "DecisionTreeRegressor(ccp_alpha=0, criterion='mse', min_samples_leaf=2,\n",
              "                      min_samples_split=4)"
            ]
          },
          "metadata": {},
          "execution_count": 23
        }
      ]
    },
    {
      "cell_type": "markdown",
      "source": [],
      "metadata": {
        "id": "UlzhIATs90PS"
      }
    },
    {
      "cell_type": "code",
      "source": [
        "np.random.seed(seed)\n",
        "scores_R2 = cross_val_score(dtree, x, y,cv=10,scoring='r2')"
      ],
      "metadata": {
        "colab": {
          "base_uri": "https://localhost:8080/"
        },
        "id": "a9aGqDIVeCs4",
        "outputId": "a0c90122-b0ca-4758-aac0-a679bd5e08a9"
      },
      "execution_count": 27,
      "outputs": [
        {
          "output_type": "stream",
          "name": "stderr",
          "text": [
            "/usr/local/lib/python3.7/dist-packages/sklearn/tree/_classes.py:363: FutureWarning: Criterion 'mse' was deprecated in v1.0 and will be removed in version 1.2. Use `criterion='squared_error'` which is equivalent.\n",
            "  FutureWarning,\n",
            "/usr/local/lib/python3.7/dist-packages/sklearn/tree/_classes.py:363: FutureWarning: Criterion 'mse' was deprecated in v1.0 and will be removed in version 1.2. Use `criterion='squared_error'` which is equivalent.\n",
            "  FutureWarning,\n",
            "/usr/local/lib/python3.7/dist-packages/sklearn/tree/_classes.py:363: FutureWarning: Criterion 'mse' was deprecated in v1.0 and will be removed in version 1.2. Use `criterion='squared_error'` which is equivalent.\n",
            "  FutureWarning,\n",
            "/usr/local/lib/python3.7/dist-packages/sklearn/tree/_classes.py:363: FutureWarning: Criterion 'mse' was deprecated in v1.0 and will be removed in version 1.2. Use `criterion='squared_error'` which is equivalent.\n",
            "  FutureWarning,\n",
            "/usr/local/lib/python3.7/dist-packages/sklearn/tree/_classes.py:363: FutureWarning: Criterion 'mse' was deprecated in v1.0 and will be removed in version 1.2. Use `criterion='squared_error'` which is equivalent.\n",
            "  FutureWarning,\n",
            "/usr/local/lib/python3.7/dist-packages/sklearn/tree/_classes.py:363: FutureWarning: Criterion 'mse' was deprecated in v1.0 and will be removed in version 1.2. Use `criterion='squared_error'` which is equivalent.\n",
            "  FutureWarning,\n",
            "/usr/local/lib/python3.7/dist-packages/sklearn/tree/_classes.py:363: FutureWarning: Criterion 'mse' was deprecated in v1.0 and will be removed in version 1.2. Use `criterion='squared_error'` which is equivalent.\n",
            "  FutureWarning,\n",
            "/usr/local/lib/python3.7/dist-packages/sklearn/tree/_classes.py:363: FutureWarning: Criterion 'mse' was deprecated in v1.0 and will be removed in version 1.2. Use `criterion='squared_error'` which is equivalent.\n",
            "  FutureWarning,\n",
            "/usr/local/lib/python3.7/dist-packages/sklearn/tree/_classes.py:363: FutureWarning: Criterion 'mse' was deprecated in v1.0 and will be removed in version 1.2. Use `criterion='squared_error'` which is equivalent.\n",
            "  FutureWarning,\n",
            "/usr/local/lib/python3.7/dist-packages/sklearn/tree/_classes.py:363: FutureWarning: Criterion 'mse' was deprecated in v1.0 and will be removed in version 1.2. Use `criterion='squared_error'` which is equivalent.\n",
            "  FutureWarning,\n"
          ]
        }
      ]
    },
    {
      "cell_type": "code",
      "source": [
        "print(\" Average R2_Cross-validation scores- Decision Tree: {}\". format( scores_R2.mean()))"
      ],
      "metadata": {
        "colab": {
          "base_uri": "https://localhost:8080/"
        },
        "id": "5DsljWGweJUt",
        "outputId": "01f2bc9c-e6c5-4634-8c18-c75335dfe65f"
      },
      "execution_count": 28,
      "outputs": [
        {
          "output_type": "stream",
          "name": "stdout",
          "text": [
            " Average R2_Cross-validation scores- Decision Tree: 0.6376881853249097\n"
          ]
        }
      ]
    },
    {
      "cell_type": "code",
      "source": [],
      "metadata": {
        "id": "eCX-a3D4eRRs"
      },
      "execution_count": null,
      "outputs": []
    }
  ]
}